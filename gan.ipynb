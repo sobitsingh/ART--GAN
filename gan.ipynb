{
 "cells": [
  {
   "cell_type": "markdown",
   "metadata": {
    "colab_type": "text",
    "id": "4mB_sFildiDh"
   },
   "source": [
    "<a href=\"https://colab.research.google.com/github/jeffheaton/t81_558_deep_learning/blob/master/t81_558_class_07_2_Keras_gan.ipynb\" target=\"_parent\"><img src=\"https://colab.research.google.com/assets/colab-badge.svg\" alt=\"Open In Colab\"/></a>"
   ]
  },
  {
   "cell_type": "markdown",
   "metadata": {
    "colab_type": "text",
    "id": "303iHntmdiDj"
   },
   "source": [
    "# T81-558: Applications of Deep Neural Networks\n",
    "**Module 7: Generative Adversarial Networks**\n",
    "* Instructor: [Jeff Heaton](https://sites.wustl.edu/jeffheaton/), McKelvey School of Engineering, [Washington University in St. Louis](https://engineering.wustl.edu/Programs/Pages/default.aspx)\n",
    "* For more information visit the [class website](https://sites.wustl.edu/jeffheaton/t81-558/)."
   ]
  },
  {
   "cell_type": "markdown",
   "metadata": {
    "colab_type": "text",
    "id": "d5n2iv9udiDk"
   },
   "source": [
    "# Module 7 Material\n",
    "\n",
    "* Part 7.1: Introduction to GANS for Image and Data Generation [[Video]](https://www.youtube.com/watch?v=0QnCH6tlZgc&list=PLjy4p-07OYzulelvJ5KVaT2pDlxivl_BN) [[Notebook]](t81_558_class_07_1_gan_intro.ipynb)\n",
    "* **Part 7.2: Implementing a GAN in Keras** [[Video]](https://www.youtube.com/watch?v=T-MCludVNn4&list=PLjy4p-07OYzulelvJ5KVaT2pDlxivl_BN) [[Notebook]](t81_558_class_07_2_Keras_gan.ipynb)\n",
    "* Part 7.3: Face Generation with StyleGAN and Python [[Video]](https://www.youtube.com/watch?v=Wwwyr7cOBlU&list=PLjy4p-07OYzulelvJ5KVaT2pDlxivl_BN) [[Notebook]](t81_558_class_07_3_style_gan.ipynb)\n",
    "* Part 7.4: GANS for Semi-Supervised Learning in Keras [[Video]](https://www.youtube.com/watch?v=ZPewmEu7644&list=PLjy4p-07OYzulelvJ5KVaT2pDlxivl_BN) [[Notebook]](t81_558_class_07_4_gan_semi_supervised.ipynb)\n",
    "* Part 7.5: An Overview of GAN Research [[Video]](https://www.youtube.com/watch?v=cvCvZKvlvq4&list=PLjy4p-07OYzulelvJ5KVaT2pDlxivl_BN) [[Notebook]](t81_558_class_07_5_gan_research.ipynb)\n"
   ]
  },
  {
   "cell_type": "code",
   "execution_count": 1,
   "metadata": {
    "colab": {},
    "colab_type": "code",
    "id": "zgMWBuf61OmL"
   },
   "outputs": [],
   "source": [
    "# Nicely formatted time string\n",
    "def hms_string(sec_elapsed):\n",
    "    h = int(sec_elapsed / (60 * 60))\n",
    "    m = int((sec_elapsed % (60 * 60)) / 60)\n",
    "    s = sec_elapsed % 60\n",
    "    return \"{}:{:>02}:{:>05.2f}\".format(h, m, s)"
   ]
  },
  {
   "cell_type": "markdown",
   "metadata": {
    "colab_type": "text",
    "id": "1yqlUD4sdiDk"
   },
   "source": [
    "# Part 7.2: Implementing DCGANs in Keras\n",
    "\n",
    "Paper that described the type of DCGAN that we will create in this module. [[Cite:radford2015unsupervised]](https://arxiv.org/abs/1511.06434) This paper implements a DCGAN as follows:\n",
    "\n",
    "* No pre-processing was applied to training images besides scaling to the range of the tanh activation function [-1, 1]. \n",
    "* All models were trained with mini-batch stochastic gradient descent (SGD) with a mini-batch size of 128. \n",
    "* All weights were initialized from a zero-centered Normal distribution with standard deviation 0.02. \n",
    "* In the LeakyReLU, the slope of the leak was set to 0.2 in all models.\n",
    "* we used the Adam optimizer(Kingma & Ba, 2014) with tuned hyperparameters. We found the suggested learning rate of 0.001, to be too high, using 0.0002 instead. \n",
    "* Additionally, we found leaving the momentum term $\\beta{1}$ at the suggested value of 0.9 resulted in training oscillation and instability while reducing it to 0.5 helped stabilize training.\n",
    "\n",
    "The paper also provides the following architecture guidelines for stable Deep Convolutional GANs:\n",
    "\n",
    "* Replace any pooling layers with strided convolutions (discriminator) and fractional-strided convolutions (generator).\n",
    "* Use batchnorm in both the generator and the discriminator.\n",
    "* Remove fully connected hidden layers for deeper architectures.\n",
    "* Use ReLU activation in generator for all layers except for the output, which uses Tanh.\n",
    "* Use LeakyReLU activation in the discriminator for all layers.\n",
    "\n",
    "While creating the material for this module I used a number of Internet resources, some of the most helpful were:\n",
    "\n",
    "* [Deep Convolutional Generative Adversarial Network (TensorFlow 2.0 example code)](https://www.tensorflow.org/tutorials/generative/dcgan)\n",
    "* [Keep Calm and train a GAN. Pitfalls and Tips on training Generative Adversarial Networks](https://medium.com/@utk.is.here/keep-calm-and-train-a-gan-pitfalls-and-tips-on-training-generative-adversarial-networks-edd529764aa9)\n",
    "* [Collection of Keras implementations of Generative Adversarial Networks GANs](https://github.com/eriklindernoren/Keras-GAN)\n",
    "* [dcgan-facegenerator](https://github.com/platonovsimeon/dcgan-facegenerator), [Semi-Paywalled Article by GitHub Author](https://medium.com/datadriveninvestor/generating-human-faces-with-keras-3ccd54c17f16)\n",
    "\n",
    "The program created next will generate faces similar to these.  While these faces are not perfect, they demonstrate how we can construct and train a GAN on or own.  Later we will see how to import very advanced weights from nVidia to produce high resolution, realistic looking faces. Figure 7.GAN-GRID shows images from GAN training.\n",
    "\n",
    "**Figure 7.GAN-GRID: GAN Neural Network Training**\n",
    "![GAN](https://raw.githubusercontent.com/jeffheaton/t81_558_deep_learning/master/images/gan-3.png \"GAN Images\")\n",
    "\n",
    "As discussed in the previous module, the GAN is made up of two different neural networks: the discriminator and the generator.  The generator generates the images, while the discriminator detects if a face is real or was generated.  These two neural networks work as shown in Figure 7.GAN-EVAL:\n",
    "\n",
    "**Figure 7.GAN-EVAL:\n",
    "![GAN](https://raw.githubusercontent.com/jeffheaton/t81_558_deep_learning/master/images/gan_fig_1.png \"GAN\")\n",
    "\n",
    "The discriminator accepts an image as its input and produces number that is the probability of the input image being real.  The generator accepts a random seed vector and generates an image from that random vector seed. An unlimited number of new images can be created by providing additional seeds."
   ]
  },
  {
   "cell_type": "markdown",
   "metadata": {
    "colab_type": "text",
    "id": "SpCjlQyEdiDo"
   },
   "source": [
    "I suggest running this code with a GPU, it will be very slow on a CPU alone.  The following code mounts your Google drive for use with Google CoLab.  If you are not using CoLab, the following code will not work."
   ]
  },
  {
   "cell_type": "code",
   "execution_count": 2,
   "metadata": {
    "colab": {
     "base_uri": "https://localhost:8080/",
     "height": 138
    },
    "colab_type": "code",
    "id": "Y8_-1h5ddiDp",
    "outputId": "1c87accc-8ba8-4ca0-bf8e-e53fd60fe7fe"
   },
   "outputs": [
    {
     "name": "stdout",
     "output_type": "stream",
     "text": [
      "Note: not using Google CoLab\n"
     ]
    }
   ],
   "source": [
    "\n",
    "try:\n",
    "    from google.colab import drive\n",
    "    drive.mount('/content/drive', force_remount=True)\n",
    "    COLAB = True\n",
    "    print(\"Note: using Google CoLab\")\n",
    "    %tensorflow_version 2.x\n",
    "except:\n",
    "    print(\"Note: not using Google CoLab\")\n",
    "    COLAB = False"
   ]
  },
  {
   "cell_type": "markdown",
   "metadata": {
    "colab_type": "text",
    "id": "BeVAWGHOdiDl"
   },
   "source": [
    "The following packages will be used to implement a basic GAN system in Python/Keras."
   ]
  },
  {
   "cell_type": "code",
   "execution_count": 39,
   "metadata": {
    "colab": {},
    "colab_type": "code",
    "id": "KubxTY1mdiDm"
   },
   "outputs": [],
   "source": [
    "import tensorflow as tf\n",
    "from tensorflow.keras.layers import Input, Reshape, Dropout, Dense \n",
    "from tensorflow.keras.layers import Flatten, BatchNormalization\n",
    "from tensorflow.keras.layers import Activation, ZeroPadding2D\n",
    "from tensorflow.keras.layers import LeakyReLU\n",
    "from tensorflow.keras.layers import UpSampling2D, Conv2D\n",
    "from tensorflow.keras.models import Sequential, Model, load_model\n",
    "from tensorflow.keras.optimizers import Adam\n",
    "import numpy as np\n",
    "from PIL import Image\n",
    "from tqdm import tqdm\n",
    "import os \n",
    "import time\n",
    "import matplotlib.pyplot as plt\n",
    "import cv2"
   ]
  },
  {
   "cell_type": "markdown",
   "metadata": {
    "colab_type": "text",
    "id": "X9uwIRYJdiDr"
   },
   "source": [
    "These are the constants that define how the GANs will be created for this example.  The higher the resolution, the more memory that will be needed.  Higher resolution will also result in longer run times.  For Google CoLab (with GPU) 128x128 resolution is as high as can be used (due to memory).  Note that the resolution is specified as a multiple of 32.  So **GENERATE_RES** of 1 is 32, 2 is 64, etc.\n",
    "\n",
    "To run this you will need training data.  The training data can be any collection of images.  I suggest using training data from the following two locations.  Simply unzip and combine to a common directory.  This directory should be uploaded to Google Drive (if you are using CoLab). The constant **DATA_PATH** defines where these images are stored.\n",
    "\n",
    "The source data (faces) used in this module can be found here:\n",
    "\n",
    "* [Kaggle Faces Data New](https://www.kaggle.com/gasgallo/faces-data-new)\n",
    "* [Kaggle Lag Dataset: Dataset of faces, from more than 1k different subjects](https://www.kaggle.com/gasgallo/lag-dataset)"
   ]
  },
  {
   "cell_type": "code",
   "execution_count": 49,
   "metadata": {
    "colab": {
     "base_uri": "https://localhost:8080/",
     "height": 34
    },
    "colab_type": "code",
    "id": "tb_XblE7diDr",
    "outputId": "cb84609d-e4c4-44f0-fdc7-2a12fa5f4fcc"
   },
   "outputs": [
    {
     "name": "stdout",
     "output_type": "stream",
     "text": [
      "Will generate 64px square images.\n"
     ]
    }
   ],
   "source": [
    "# Generation resolution - Must be square \n",
    "# Training data is also scaled to this.\n",
    "# Note GENERATE_RES 4 or higher  \n",
    "# will blow Google CoLab's memory and have not\n",
    "# been tested extensivly.\n",
    "GENERATE_RES = 2 # Generation resolution factor \n",
    "# (1=32, 2=64, 3=96, 4=128, etc.)\n",
    "GENERATE_SQUARE = 32 * GENERATE_RES # rows/cols (should be square)\n",
    "IMAGE_CHANNELS = 3\n",
    "\n",
    "# Preview image \n",
    "PREVIEW_ROWS = 4\n",
    "PREVIEW_COLS = 7\n",
    "PREVIEW_MARGIN = 16\n",
    "\n",
    "# Size vector to generate images from\n",
    "SEED_SIZE = 100\n",
    "\n",
    "# Configuration\n",
    "DATA_PATH = r'C:\\Users\\Sobhit Singh\\Desktop\\New folder (2)'\n",
    "EPOCHS = 50\n",
    "BATCH_SIZE = 32\n",
    "BUFFER_SIZE = 60000\n",
    "\n",
    "print(f\"Will generate {GENERATE_SQUARE}px square images.\")"
   ]
  },
  {
   "cell_type": "markdown",
   "metadata": {
    "colab_type": "text",
    "id": "oDTfFQjTdiDu"
   },
   "source": [
    "Next we will load and preprocess the images.  This can take awhile.  Google CoLab took around an hour to process.  Because of this we store the processed file as a binary.  This way we can simply reload the processed training data and quickly use it.  It is most efficient to only perform this operation once.  The dimensions of the image are encoded into the filename of the binary file because we need to regenerate it if these change."
   ]
  },
  {
   "cell_type": "code",
   "execution_count": 61,
   "metadata": {
    "colab": {
     "base_uri": "https://localhost:8080/",
     "height": 397
    },
    "colab_type": "code",
    "id": "dJ69ALfSdiDv",
    "outputId": "9445ccf8-91b8-480b-bc35-90d00fe72ef8"
   },
   "outputs": [
    {
     "name": "stdout",
     "output_type": "stream",
     "text": [
      "Looking for file: C:\\Users\\Sobhit Singh\\Desktop\\New folder (2)\\training_data_64_64.npy\n",
      "Loading training images...\n"
     ]
    },
    {
     "name": "stderr",
     "output_type": "stream",
     "text": [
      "\n",
      "  0%|                                                                                         | 0/1074 [00:00<?, ?it/s]\n",
      "  2%|█▎                                                                             | 18/1074 [00:00<00:06, 175.23it/s]\n",
      "  4%|███▍                                                                           | 47/1074 [00:00<00:05, 198.13it/s]\n",
      "  6%|█████                                                                          | 68/1074 [00:00<00:05, 201.10it/s]\n",
      " 11%|████████▌                                                                     | 118/1074 [00:00<00:03, 244.79it/s]\n",
      " 15%|███████████▊                                                                  | 163/1074 [00:00<00:03, 282.68it/s]\n",
      " 18%|██████████████                                                                | 194/1074 [00:00<00:03, 266.62it/s]\n",
      " 21%|████████████████▏                                                             | 223/1074 [00:00<00:03, 256.77it/s]\n",
      " 24%|██████████████████▎                                                           | 253/1074 [00:00<00:03, 267.14it/s]\n",
      " 26%|████████████████████▌                                                         | 283/1074 [00:00<00:02, 275.69it/s]\n",
      " 29%|██████████████████████▋                                                       | 312/1074 [00:01<00:02, 279.24it/s]\n",
      " 32%|████████████████████████▊                                                     | 341/1074 [00:01<00:02, 262.69it/s]\n",
      " 34%|██████████████████████████▋                                                   | 368/1074 [00:01<00:02, 238.44it/s]\n",
      " 38%|█████████████████████████████▍                                                | 406/1074 [00:01<00:02, 267.43it/s]\n",
      " 41%|████████████████████████████████▎                                             | 445/1074 [00:01<00:02, 294.81it/s]\n",
      " 44%|██████████████████████████████████▋                                           | 477/1074 [00:01<00:02, 265.40it/s]\n",
      " 47%|████████████████████████████████████▋                                         | 506/1074 [00:01<00:02, 262.95it/s]\n",
      " 50%|██████████████████████████████████████▊                                       | 534/1074 [00:01<00:02, 258.43it/s]\n",
      " 52%|████████████████████████████████████████▋                                     | 561/1074 [00:02<00:02, 246.27it/s]\n",
      " 55%|███████████████████████████████████████████▎                                  | 596/1074 [00:02<00:01, 268.60it/s]\n",
      " 58%|█████████████████████████████████████████████▍                                | 626/1074 [00:02<00:01, 276.75it/s]\n",
      " 61%|███████████████████████████████████████████████▌                              | 655/1074 [00:02<00:01, 279.16it/s]\n",
      " 64%|█████████████████████████████████████████████████▋                            | 684/1074 [00:02<00:01, 270.74it/s]\n",
      " 66%|███████████████████████████████████████████████████▋                          | 712/1074 [00:02<00:01, 267.41it/s]\n",
      " 69%|█████████████████████████████████████████████████████▋                        | 740/1074 [00:02<00:01, 264.38it/s]\n",
      " 71%|███████████████████████████████████████████████████████▋                      | 767/1074 [00:02<00:01, 257.15it/s]\n",
      " 74%|█████████████████████████████████████████████████████████▋                    | 795/1074 [00:02<00:01, 260.86it/s]\n",
      " 77%|███████████████████████████████████████████████████████████▋                  | 822/1074 [00:02<00:00, 259.18it/s]\n",
      " 79%|█████████████████████████████████████████████████████████████▉                | 852/1074 [00:03<00:00, 268.25it/s]\n",
      " 82%|████████████████████████████████████████████████████████████████▎             | 885/1074 [00:03<00:00, 283.67it/s]\n",
      " 85%|██████████████████████████████████████████████████████████████████▍           | 914/1074 [00:03<00:01, 114.74it/s]\n",
      " 87%|████████████████████████████████████████████████████████████████████▊          | 936/1074 [00:04<00:01, 87.78it/s]\n",
      " 89%|██████████████████████████████████████████████████████████████████████         | 953/1074 [00:04<00:01, 74.56it/s]\n",
      " 90%|███████████████████████████████████████████████████████████████████████▏       | 967/1074 [00:04<00:02, 53.15it/s]\n",
      " 91%|███████████████████████████████████████████████████████████████████████▉       | 978/1074 [00:05<00:02, 45.30it/s]\n",
      " 92%|████████████████████████████████████████████████████████████████████████▌      | 987/1074 [00:05<00:02, 33.71it/s]\n",
      " 93%|█████████████████████████████████████████████████████████████████████████      | 994/1074 [00:05<00:02, 30.95it/s]\n",
      " 93%|████████████████████████████████████████████████████████████████████████▋     | 1000/1074 [00:06<00:02, 33.96it/s]\n",
      " 94%|█████████████████████████████████████████████████████████████████████████     | 1006/1074 [00:06<00:01, 35.54it/s]\n",
      " 94%|█████████████████████████████████████████████████████████████████████████▍    | 1011/1074 [00:06<00:01, 36.04it/s]\n",
      " 95%|█████████████████████████████████████████████████████████████████████████▊    | 1016/1074 [00:06<00:01, 35.13it/s]\n",
      " 95%|██████████████████████████████████████████████████████████████████████████▏   | 1021/1074 [00:06<00:01, 38.24it/s]\n",
      " 96%|██████████████████████████████████████████████████████████████████████████▌   | 1027/1074 [00:06<00:01, 42.76it/s]\n",
      " 96%|██████████████████████████████████████████████████████████████████████████▉   | 1032/1074 [00:06<00:00, 43.56it/s]\n",
      " 97%|███████████████████████████████████████████████████████████████████████████▎  | 1037/1074 [00:06<00:00, 44.26it/s]\n",
      " 97%|███████████████████████████████████████████████████████████████████████████▉  | 1046/1074 [00:07<00:00, 50.75it/s]\n",
      " 98%|████████████████████████████████████████████████████████████████████████████▍ | 1052/1074 [00:07<00:00, 47.01it/s]\n",
      " 99%|████████████████████████████████████████████████████████████████████████████▊ | 1058/1074 [00:07<00:00, 45.93it/s]\n",
      " 99%|█████████████████████████████████████████████████████████████████████████████▏| 1063/1074 [00:07<00:00, 44.48it/s]\n",
      " 99%|█████████████████████████████████████████████████████████████████████████████▌| 1068/1074 [00:07<00:00, 45.17it/s]\n",
      "100%|█████████████████████████████████████████████████████████████████████████████▉| 1073/1074 [00:07<00:00, 45.11it/s]\n",
      "100%|█████████████████████████████████████████████████████████████████████████████| 1074/1074 [00:07<00:00, 139.27it/s]"
     ]
    },
    {
     "name": "stdout",
     "output_type": "stream",
     "text": [
      "Saving training image binary...\n",
      "Image preprocess time: 0:00:08.25\n"
     ]
    }
   ],
   "source": [
    "# Image set has 11,682 images.  Can take over an hour \n",
    "# for initial preprocessing.\n",
    "# Because of this time needed, save a Numpy preprocessed file.\n",
    "# Note, that file is large enough to cause problems for \n",
    "# sume verisons of Pickle,\n",
    "# so Numpy binary files are used.\n",
    "training_binary_path = os.path.join(DATA_PATH,\n",
    "        f'training_data_{GENERATE_SQUARE}_{GENERATE_SQUARE}.npy')\n",
    "\n",
    "print(f\"Looking for file: {training_binary_path}\")\n",
    "\n",
    "if not os.path.isfile(training_binary_path):\n",
    "  start = time.time()\n",
    "  print(\"Loading training images...\")\n",
    "\n",
    "  training_data = []\n",
    "  faces_path = os.path.join(DATA_PATH,'images')\n",
    "  for filename in tqdm(os.listdir(faces_path)):\n",
    "      path = os.path.join(faces_path,filename)\n",
    "      im= cv2.imread(path)\n",
    "      image = cv2.resize(im,(GENERATE_SQUARE,\n",
    "            GENERATE_SQUARE),Image.ANTIALIAS)\n",
    "      training_data.append(np.asarray(image))\n",
    "  training_data = np.reshape(training_data,(-1,GENERATE_SQUARE,\n",
    "            GENERATE_SQUARE,IMAGE_CHANNELS))\n",
    "  training_data = training_data.astype(np.float32)\n",
    "  training_data = training_data / 127.5 - 1.\n",
    "\n",
    "\n",
    "  print(\"Saving training image binary...\")\n",
    "  np.save(training_binary_path,training_data)\n",
    "  elapsed = time.time()-start\n",
    "  print (f'Image preprocess time: {hms_string(elapsed)}')\n",
    "else:\n",
    "  print(\"Loading previous training pickle...\")\n",
    "  training_data = np.load(training_binary_path)"
   ]
  },
  {
   "cell_type": "markdown",
   "metadata": {
    "colab_type": "text",
    "id": "Y9kO_iSRyixQ"
   },
   "source": [
    "### We will use a TensorFlow **Dataset** object to actually hold the images.  This allows the data to be quickly shuffled int divided into the appropriate batch sizes for training.  "
   ]
  },
  {
   "cell_type": "code",
   "execution_count": 62,
   "metadata": {
    "colab": {},
    "colab_type": "code",
    "id": "BXl0JohJBx69"
   },
   "outputs": [],
   "source": [
    "# Batch and shuffle the data\n",
    "train_dataset = tf.data.Dataset.from_tensor_slices(training_data).shuffle(BUFFER_SIZE).batch(BATCH_SIZE)"
   ]
  },
  {
   "cell_type": "markdown",
   "metadata": {
    "colab_type": "text",
    "id": "2dATyXqQdiDw"
   },
   "source": [
    "The code below creates the generator and discriminator."
   ]
  },
  {
   "cell_type": "markdown",
   "metadata": {
    "colab_type": "text",
    "id": "zB_aX4ChdiD0"
   },
   "source": [
    "Next we actually build the discriminator and the generator.  Both will be trained with the Adam optimizer."
   ]
  },
  {
   "cell_type": "code",
   "execution_count": 63,
   "metadata": {
    "colab": {},
    "colab_type": "code",
    "id": "Ulou-BZPybzT"
   },
   "outputs": [],
   "source": [
    "def build_generator(seed_size, channels):\n",
    "    model = Sequential()\n",
    "\n",
    "    model.add(Dense(4*4*256,activation=\"relu\",input_dim=seed_size))\n",
    "    model.add(Reshape((4,4,256)))\n",
    "\n",
    "    model.add(UpSampling2D())\n",
    "    model.add(Conv2D(256,kernel_size=3,padding=\"same\"))\n",
    "    model.add(BatchNormalization(momentum=0.8))\n",
    "    model.add(Activation(\"relu\"))\n",
    "\n",
    "    model.add(UpSampling2D())\n",
    "    model.add(Conv2D(256,kernel_size=3,padding=\"same\"))\n",
    "    model.add(BatchNormalization(momentum=0.8))\n",
    "    model.add(Activation(\"relu\"))\n",
    "   \n",
    "    # Output resolution, additional upsampling\n",
    "    model.add(UpSampling2D())\n",
    "    model.add(Conv2D(128,kernel_size=3,padding=\"same\"))\n",
    "    model.add(BatchNormalization(momentum=0.8))\n",
    "    model.add(Activation(\"relu\"))\n",
    "\n",
    "    if GENERATE_RES>1:\n",
    "      model.add(UpSampling2D(size=(GENERATE_RES,GENERATE_RES)))\n",
    "      model.add(Conv2D(128,kernel_size=3,padding=\"same\"))\n",
    "      model.add(BatchNormalization(momentum=0.8))\n",
    "      model.add(Activation(\"relu\"))\n",
    "\n",
    "    # Final CNN layer\n",
    "    model.add(Conv2D(channels,kernel_size=3,padding=\"same\"))\n",
    "    model.add(Activation(\"tanh\"))\n",
    "\n",
    "    return model\n",
    "\n",
    "\n",
    "def build_discriminator(image_shape):\n",
    "    model = Sequential()\n",
    "\n",
    "    model.add(Conv2D(32, kernel_size=3, strides=2, input_shape=image_shape, \n",
    "                     padding=\"same\"))\n",
    "    model.add(LeakyReLU(alpha=0.2))\n",
    "\n",
    "    model.add(Dropout(0.25))\n",
    "    model.add(Conv2D(64, kernel_size=3, strides=2, padding=\"same\"))\n",
    "    model.add(ZeroPadding2D(padding=((0,1),(0,1))))\n",
    "    model.add(BatchNormalization(momentum=0.8))\n",
    "    model.add(LeakyReLU(alpha=0.2))\n",
    "\n",
    "    model.add(Dropout(0.25))\n",
    "    model.add(Conv2D(128, kernel_size=3, strides=2, padding=\"same\"))\n",
    "    model.add(BatchNormalization(momentum=0.8))\n",
    "    model.add(LeakyReLU(alpha=0.2))\n",
    "\n",
    "    model.add(Dropout(0.25))\n",
    "    model.add(Conv2D(256, kernel_size=3, strides=1, padding=\"same\"))\n",
    "    model.add(BatchNormalization(momentum=0.8))\n",
    "    model.add(LeakyReLU(alpha=0.2))\n",
    "\n",
    "    model.add(Dropout(0.25))\n",
    "    model.add(Conv2D(512, kernel_size=3, strides=1, padding=\"same\"))\n",
    "    model.add(BatchNormalization(momentum=0.8))\n",
    "    model.add(LeakyReLU(alpha=0.2))\n",
    "\n",
    "    model.add(Dropout(0.25))\n",
    "    model.add(Flatten())\n",
    "    model.add(Dense(1, activation='sigmoid'))\n",
    "\n",
    "    return model"
   ]
  },
  {
   "cell_type": "markdown",
   "metadata": {
    "colab_type": "text",
    "id": "2kxKk7uDOnPS"
   },
   "source": [
    "As we progress through training images will be produced to show the progress.  These images will contain a number of rendered faces that show how good the generator has become.  These faces will be "
   ]
  },
  {
   "cell_type": "code",
   "execution_count": 65,
   "metadata": {
    "colab": {},
    "colab_type": "code",
    "id": "UKnCeDut2cp0"
   },
   "outputs": [],
   "source": [
    "def save_images(cnt,noise):\n",
    "  image_array = np.full(( \n",
    "      PREVIEW_MARGIN + (PREVIEW_ROWS * (GENERATE_SQUARE+PREVIEW_MARGIN)), \n",
    "      PREVIEW_MARGIN + (PREVIEW_COLS * (GENERATE_SQUARE+PREVIEW_MARGIN)), 3), \n",
    "      255, dtype=np.uint8)\n",
    "  \n",
    "  generated_images = generator.predict(noise)\n",
    "\n",
    "  generated_images = 0.5 * generated_images + 0.5\n",
    "\n",
    "  image_count = 0\n",
    "  for row in range(PREVIEW_ROWS):\n",
    "      for col in range(PREVIEW_COLS):\n",
    "        r = row * (GENERATE_SQUARE+16) + PREVIEW_MARGIN\n",
    "        c = col * (GENERATE_SQUARE+16) + PREVIEW_MARGIN\n",
    "        image_array[r:r+GENERATE_SQUARE,c:c+GENERATE_SQUARE] = generated_images[image_count] * 255\n",
    "        image_count += 1\n",
    "\n",
    "          \n",
    "  output_path = os.path.join(DATA_PATH,'output')\n",
    "  if not os.path.exists(output_path):\n",
    "    os.makedirs(output_path)\n",
    "  \n",
    "  filename = os.path.join(output_path,f\"train-{cnt}.png\")\n",
    "  im = Image.fromarray(image_array)\n",
    "  im.save(filename)"
   ]
  },
  {
   "cell_type": "markdown",
   "metadata": {
    "colab_type": "text",
    "id": "XiUbj3W4Oo3U"
   },
   "source": []
  },
  {
   "cell_type": "code",
   "execution_count": 66,
   "metadata": {
    "colab": {
     "base_uri": "https://localhost:8080/",
     "height": 285
    },
    "colab_type": "code",
    "id": "gL5byGhNzOzd",
    "outputId": "ad1df425-b190-4404-b716-5998f6ea48fb"
   },
   "outputs": [
    {
     "data": {
      "text/plain": [
       "<matplotlib.image.AxesImage at 0x1c36b6c8860>"
      ]
     },
     "execution_count": 66,
     "metadata": {},
     "output_type": "execute_result"
    },
    {
     "data": {
      "image/png": "[encoded data removed]",
      "text/plain": [
       "<matplotlib.figure.Figure at 0x1c36ded97f0>"
      ]
     },
     "metadata": {
      "needs_background": "light"
     },
     "output_type": "display_data"
    }
   ],
   "source": [
    "generator = build_generator(SEED_SIZE, IMAGE_CHANNELS)\n",
    "\n",
    "noise = tf.random.normal([1, SEED_SIZE])\n",
    "generated_image = generator(noise, training=False)\n",
    "\n",
    "plt.imshow(generated_image[0, :, :, 0])"
   ]
  },
  {
   "cell_type": "markdown",
   "metadata": {
    "colab_type": "text",
    "id": "nlxxEHDIOqjW"
   },
   "source": []
  },
  {
   "cell_type": "code",
   "execution_count": 67,
   "metadata": {
    "colab": {
     "base_uri": "https://localhost:8080/",
     "height": 34
    },
    "colab_type": "code",
    "id": "LOnTxIXnyeEQ",
    "outputId": "ed8e14da-88d9-4d02-9338-07bb71eadb7e"
   },
   "outputs": [
    {
     "name": "stdout",
     "output_type": "stream",
     "text": [
      "tf.Tensor([[0.5000183]], shape=(1, 1), dtype=float32)\n"
     ]
    }
   ],
   "source": [
    "image_shape = (GENERATE_SQUARE,GENERATE_SQUARE,IMAGE_CHANNELS)\n",
    "\n",
    "discriminator = build_discriminator(image_shape)\n",
    "decision = discriminator(generated_image)\n",
    "print (decision)"
   ]
  },
  {
   "cell_type": "markdown",
   "metadata": {
    "colab_type": "text",
    "id": "-ChOo3D1OsVc"
   },
   "source": [
    "Loss functions must be developed that allow the generator and discriminator to be trained in an adversarial way.  Because these two neural networks are being trained independently they must be trained in two separate passes.  This requires two separate loss functions and also two separate updates to the gradients.  When the discriminator's gradients are applied to decrease the discriminator's loss it is important that only the discriminator's weights are update.  It is not fair, nor will it produce good results, to adversarially damage the weights of the generator to help the discriminator.  A simple backpropagation would do this.  It would simultaneously affect the weights of both generator and discriminator to lower whatever loss it was assigned to lower.\n",
    "\n",
    "Figure 7.TDIS shows how the discriminator is trained.\n",
    "\n",
    "**Figure 7.TDIS: Training the Discriminator**\n",
    "![Training the Discriminator](https://raw.githubusercontent.com/jeffheaton/t81_558_deep_learning/master/images/gan_fig_2.png \"Training the Discriminator\")\n",
    "\n",
    "Here a training set is generated with an equal number of real and fake images.  The real images are randomly sampled (chosen) from the training data.  An equal number of random images are generated from random seeds.  For the discriminator training set, the $x$ contains the input images and the $y$ contains a value of 1 for real images and 0 for generated ones.\n",
    "\n",
    "Likewise, the Figure 7.TGEN shows how the generator is trained.\n",
    "\n",
    "**Figure 7.TGEN: Training the Generator**\n",
    "![Training the Generator](https://raw.githubusercontent.com/jeffheaton/t81_558_deep_learning/master/images/gan_fig_3.png \"Training the Generator\")\n",
    "\n",
    "For the generator training set, the $x$ contains the random seeds to generate images and the $y$ always contains the value of 1, because the optimal is for the generator to have generated such good images that the discriminiator was fooled into assigning them a probability near 1."
   ]
  },
  {
   "cell_type": "code",
   "execution_count": 68,
   "metadata": {
    "colab": {},
    "colab_type": "code",
    "id": "gBaP98zAySJV"
   },
   "outputs": [],
   "source": [
    "# This method returns a helper function to compute cross entropy loss\n",
    "cross_entropy = tf.keras.losses.BinaryCrossentropy(from_logits=True)\n",
    "\n",
    "def discriminator_loss(real_output, fake_output):\n",
    "    real_loss = cross_entropy(tf.ones_like(real_output), real_output)\n",
    "    fake_loss = cross_entropy(tf.zeros_like(fake_output), fake_output)\n",
    "    total_loss = real_loss + fake_loss\n",
    "    return total_loss\n",
    "\n",
    "def generator_loss(fake_output):\n",
    "    return cross_entropy(tf.ones_like(fake_output), fake_output)"
   ]
  },
  {
   "cell_type": "markdown",
   "metadata": {
    "colab_type": "text",
    "id": "gIlZvHGAxbWf"
   },
   "source": [
    "Both the generator and discriminator use Adam and the same learning rate and momentum.  This does not need to be the case.  If you use a **GENERATE_RES** greater than 3 you may need to tune these learning rates, as well as other training and hyperparameters.  "
   ]
  },
  {
   "cell_type": "code",
   "execution_count": 69,
   "metadata": {
    "colab": {},
    "colab_type": "code",
    "id": "79UDhOCa0R4h"
   },
   "outputs": [],
   "source": [
    "generator_optimizer = tf.keras.optimizers.Adam(1.5e-4,0.5)\n",
    "discriminator_optimizer = tf.keras.optimizers.Adam(1.5e-4,0.5)"
   ]
  },
  {
   "cell_type": "markdown",
   "metadata": {
    "colab_type": "text",
    "id": "frCpCNn8yRcM"
   },
   "source": [
    "The following function is where most of the training takes place for both the discriminator and the generator.  This function was based on the GAN provided by the [TensorFlow Keras exmples](https://www.tensorflow.org/tutorials/generative/dcgan) documentation.  The first thing you should notice about this function is that it is annotated with the **tf.function** annotation.  This causes the function to be precompiled and improves performance.\n",
    "\n",
    "This function trans differently than the code we previously saw for training.  This code makes use of **GradientTape** to allow the discriminator and generator to be trained together, yet separately.  \n",
    "\n"
   ]
  },
  {
   "cell_type": "code",
   "execution_count": 70,
   "metadata": {
    "colab": {},
    "colab_type": "code",
    "id": "uzyh-LqU0j5d"
   },
   "outputs": [],
   "source": [
    "# Notice the use of `tf.function`\n",
    "# This annotation causes the function to be \"compiled\".\n",
    "@tf.function\n",
    "def train_step(images):\n",
    "  seed = tf.random.normal([BATCH_SIZE, SEED_SIZE])\n",
    "\n",
    "  with tf.GradientTape() as gen_tape, tf.GradientTape() as disc_tape:\n",
    "    generated_images = generator(seed, training=True)\n",
    "\n",
    "    real_output = discriminator(images, training=True)\n",
    "    fake_output = discriminator(generated_images, training=True)\n",
    "\n",
    "    gen_loss = generator_loss(fake_output)\n",
    "    disc_loss = discriminator_loss(real_output, fake_output)\n",
    "    \n",
    "\n",
    "    gradients_of_generator = gen_tape.gradient(gen_loss, generator.trainable_variables)\n",
    "    gradients_of_discriminator = disc_tape.gradient(disc_loss, discriminator.trainable_variables)\n",
    "\n",
    "    generator_optimizer.apply_gradients(zip(gradients_of_generator, generator.trainable_variables))\n",
    "    discriminator_optimizer.apply_gradients(zip(gradients_of_discriminator, discriminator.trainable_variables))\n",
    "  return gen_loss,disc_loss"
   ]
  },
  {
   "cell_type": "code",
   "execution_count": 71,
   "metadata": {
    "colab": {},
    "colab_type": "code",
    "id": "NjrRgDR10lSF"
   },
   "outputs": [],
   "source": [
    "def train(dataset, epochs):\n",
    "  fixed_seed = np.random.normal(0, 1, (PREVIEW_ROWS * PREVIEW_COLS, SEED_SIZE))\n",
    "  start = time.time()\n",
    "\n",
    "  for epoch in range(epochs):\n",
    "    epoch_start = time.time()\n",
    "\n",
    "    gen_loss_list = []\n",
    "    disc_loss_list = []\n",
    "\n",
    "    for image_batch in dataset:\n",
    "      t = train_step(image_batch)\n",
    "      gen_loss_list.append(t[0])\n",
    "      disc_loss_list.append(t[1])\n",
    "\n",
    "    g_loss = sum(gen_loss_list) / len(gen_loss_list)\n",
    "    d_loss = sum(disc_loss_list) / len(disc_loss_list)\n",
    "\n",
    "    epoch_elapsed = time.time()-epoch_start\n",
    "    print (f'Epoch {epoch+1}, gen loss={g_loss},disc loss={d_loss},'\\\n",
    "           ' {hms_string(epoch_elapsed)}')\n",
    "    save_images(epoch,fixed_seed)\n",
    "\n",
    "  elapsed = time.time()-start\n",
    "  print (f'Training time: {hms_string(elapsed)}')\n"
   ]
  },
  {
   "cell_type": "code",
   "execution_count": 72,
   "metadata": {
    "colab": {
     "base_uri": "https://localhost:8080/",
     "height": 884
    },
    "colab_type": "code",
    "id": "vWmEHprD0t1V",
    "outputId": "7eaaf566-6cc0-4878-e26d-4362c58e0084"
   },
   "outputs": [
    {
     "name": "stdout",
     "output_type": "stream",
     "text": [
      "Epoch 1, gen loss=0.6398680210113525,disc loss=1.329468011856079, {hms_string(epoch_elapsed)}\n",
      "Epoch 2, gen loss=0.660682201385498,disc loss=1.199053406715393, {hms_string(epoch_elapsed)}\n",
      "Epoch 3, gen loss=0.6730868816375732,disc loss=1.1448379755020142, {hms_string(epoch_elapsed)}\n",
      "Epoch 4, gen loss=0.6663615107536316,disc loss=1.079129934310913, {hms_string(epoch_elapsed)}\n",
      "Epoch 5, gen loss=0.6775205731391907,disc loss=1.1264582872390747, {hms_string(epoch_elapsed)}\n",
      "Epoch 6, gen loss=0.6833489537239075,disc loss=1.0424299240112305, {hms_string(epoch_elapsed)}\n",
      "Epoch 7, gen loss=0.6906208992004395,disc loss=1.015771746635437, {hms_string(epoch_elapsed)}\n",
      "Epoch 8, gen loss=0.690325140953064,disc loss=1.019478440284729, {hms_string(epoch_elapsed)}\n",
      "Epoch 9, gen loss=0.6918721795082092,disc loss=1.0114696025848389, {hms_string(epoch_elapsed)}\n",
      "Epoch 10, gen loss=0.6924587488174438,disc loss=1.0092662572860718, {hms_string(epoch_elapsed)}\n",
      "Epoch 11, gen loss=0.6923065185546875,disc loss=1.0093634128570557, {hms_string(epoch_elapsed)}\n",
      "Epoch 12, gen loss=0.6925941705703735,disc loss=1.008691668510437, {hms_string(epoch_elapsed)}\n",
      "Epoch 13, gen loss=0.6925654411315918,disc loss=1.0082874298095703, {hms_string(epoch_elapsed)}\n",
      "Epoch 14, gen loss=0.6930660009384155,disc loss=1.006900668144226, {hms_string(epoch_elapsed)}\n",
      "Epoch 15, gen loss=0.6928907036781311,disc loss=1.0076528787612915, {hms_string(epoch_elapsed)}\n",
      "Epoch 16, gen loss=0.6930975317955017,disc loss=1.0069217681884766, {hms_string(epoch_elapsed)}\n",
      "Epoch 17, gen loss=0.6930696964263916,disc loss=1.0069363117218018, {hms_string(epoch_elapsed)}\n",
      "Epoch 18, gen loss=0.6929605603218079,disc loss=1.00716233253479, {hms_string(epoch_elapsed)}\n",
      "Epoch 19, gen loss=0.6931072473526001,disc loss=1.006922721862793, {hms_string(epoch_elapsed)}\n",
      "Epoch 20, gen loss=0.6928584575653076,disc loss=1.0077457427978516, {hms_string(epoch_elapsed)}\n",
      "Epoch 21, gen loss=0.6930994391441345,disc loss=1.0069068670272827, {hms_string(epoch_elapsed)}\n",
      "Epoch 22, gen loss=0.6930272579193115,disc loss=1.0067065954208374, {hms_string(epoch_elapsed)}\n",
      "Epoch 23, gen loss=0.6931271553039551,disc loss=1.0067710876464844, {hms_string(epoch_elapsed)}\n",
      "Epoch 24, gen loss=0.6928175091743469,disc loss=1.007030725479126, {hms_string(epoch_elapsed)}\n",
      "Epoch 25, gen loss=0.6931331157684326,disc loss=1.0066680908203125, {hms_string(epoch_elapsed)}\n",
      "Epoch 26, gen loss=0.6928263306617737,disc loss=1.0070017576217651, {hms_string(epoch_elapsed)}\n",
      "Epoch 27, gen loss=0.6931098699569702,disc loss=1.006956696510315, {hms_string(epoch_elapsed)}\n",
      "Epoch 28, gen loss=0.6930819153785706,disc loss=1.0064942836761475, {hms_string(epoch_elapsed)}\n",
      "Epoch 29, gen loss=0.6930711269378662,disc loss=1.006571650505066, {hms_string(epoch_elapsed)}\n",
      "Epoch 30, gen loss=0.6930822134017944,disc loss=1.006608009338379, {hms_string(epoch_elapsed)}\n",
      "Epoch 31, gen loss=0.6931067705154419,disc loss=1.0065009593963623, {hms_string(epoch_elapsed)}\n",
      "Epoch 32, gen loss=0.6930432319641113,disc loss=1.0065882205963135, {hms_string(epoch_elapsed)}\n",
      "Epoch 33, gen loss=0.6925201416015625,disc loss=1.0078696012496948, {hms_string(epoch_elapsed)}\n",
      "Epoch 34, gen loss=0.6930868625640869,disc loss=1.0068448781967163, {hms_string(epoch_elapsed)}\n",
      "Epoch 35, gen loss=0.6930831670761108,disc loss=1.0068151950836182, {hms_string(epoch_elapsed)}\n",
      "Epoch 36, gen loss=0.6930923461914062,disc loss=1.0065081119537354, {hms_string(epoch_elapsed)}\n",
      "Epoch 37, gen loss=0.6930856108665466,disc loss=1.0065423250198364, {hms_string(epoch_elapsed)}\n",
      "Epoch 38, gen loss=0.6930427551269531,disc loss=1.006862759590149, {hms_string(epoch_elapsed)}\n",
      "Epoch 39, gen loss=0.6930643320083618,disc loss=1.0065597295761108, {hms_string(epoch_elapsed)}\n",
      "Epoch 40, gen loss=0.6931214332580566,disc loss=1.0064725875854492, {hms_string(epoch_elapsed)}\n",
      "Epoch 41, gen loss=0.6929946541786194,disc loss=1.0067853927612305, {hms_string(epoch_elapsed)}\n",
      "Epoch 42, gen loss=0.6930412650108337,disc loss=1.0067579746246338, {hms_string(epoch_elapsed)}\n",
      "Epoch 43, gen loss=0.693086564540863,disc loss=1.006556510925293, {hms_string(epoch_elapsed)}\n",
      "Epoch 44, gen loss=0.6931077241897583,disc loss=1.0064562559127808, {hms_string(epoch_elapsed)}\n",
      "Epoch 45, gen loss=0.6931201219558716,disc loss=1.0064772367477417, {hms_string(epoch_elapsed)}\n",
      "Epoch 46, gen loss=0.693034827709198,disc loss=1.0066454410552979, {hms_string(epoch_elapsed)}\n",
      "Epoch 47, gen loss=0.6930710673332214,disc loss=1.006508231163025, {hms_string(epoch_elapsed)}\n",
      "Epoch 48, gen loss=0.6931094527244568,disc loss=1.006499171257019, {hms_string(epoch_elapsed)}\n",
      "Epoch 49, gen loss=0.6929313540458679,disc loss=1.0068409442901611, {hms_string(epoch_elapsed)}\n",
      "Epoch 50, gen loss=0.6929455995559692,disc loss=1.0069849491119385, {hms_string(epoch_elapsed)}\n",
      "Training time: 2:19:01.02\n"
     ]
    }
   ],
   "source": [
    "train(train_dataset, EPOCHS)"
   ]
  },
  {
   "cell_type": "markdown",
   "metadata": {
    "colab_type": "text",
    "id": "Mvir4efcLlwi"
   },
   "source": []
  },
  {
   "cell_type": "code",
   "execution_count": 73,
   "metadata": {
    "colab": {},
    "colab_type": "code",
    "id": "15Hia_feD9sm"
   },
   "outputs": [],
   "source": [
    "generator.save(os.path.join(DATA_PATH,\"face_generator.h5\"))"
   ]
  },
  {
   "cell_type": "code",
   "execution_count": null,
   "metadata": {},
   "outputs": [],
   "source": []
  }
 ],
 "metadata": {
  "anaconda-cloud": {},
  "colab": {
   "name": "t81_558_class_07_2_Keras_gan.ipynb",
   "provenance": []
  },
  "kernelspec": {
   "display_name": "Python 3",
   "language": "python",
   "name": "python3"
  },
  "language_info": {
   "codemirror_mode": {
    "name": "ipython",
    "version": 3
   },
   "file_extension": ".py",
   "mimetype": "text/x-python",
   "name": "python",
   "nbconvert_exporter": "python",
   "pygments_lexer": "ipython3",
   "version": "3.6.4"
  }
 },
 "nbformat": 4,
 "nbformat_minor": 1
}
